{
 "cells": [
  {
   "cell_type": "markdown",
   "metadata": {},
   "source": [
    "The below code is for validating whether the data sent for prediction is alligned/valid with respect to the data provided at the time of training the model. If the data is not alligned then we need to go for retraining the model. If the data is not alligned/valid then it is called DATA DRIFT."
   ]
  },
  {
   "cell_type": "code",
   "execution_count": 4,
   "metadata": {},
   "outputs": [],
   "source": [
    "import numpy as np\n",
    "from scipy import stats\n",
    "\n",
    "rng = np.random.default_rng()\n",
    "\n",
    "sample1 = stats.uniform.rvs(size=100, random_state=rng)\n",
    "\n",
    "sample2 = stats.norm.rvs(size=110, random_state=rng)\n",
    "\n",
    "result = stats.ks_2samp(sample1, sample2)"
   ]
  },
  {
   "cell_type": "code",
   "execution_count": 5,
   "metadata": {},
   "outputs": [
    {
     "data": {
      "text/plain": [
       "array([0.44913784, 0.54365972, 0.69312103, 0.99365745, 0.12436071,\n",
       "       0.80236194, 0.85190009, 0.53064354, 0.37441345, 0.38147625,\n",
       "       0.09859319, 0.47799415, 0.4102446 , 0.75910664, 0.67373367,\n",
       "       0.19084583, 0.39764123, 0.53915891, 0.33037939, 0.73294041,\n",
       "       0.28465971, 0.02402667, 0.59035317, 0.39627017, 0.08759335,\n",
       "       0.06284033, 0.27355748, 0.13766639, 0.02271677, 0.6279504 ,\n",
       "       0.70160077, 0.62011082, 0.20572261, 0.44594051, 0.54099511,\n",
       "       0.52955893, 0.56072281, 0.81183637, 0.09753754, 0.03482063,\n",
       "       0.81803298, 0.38268185, 0.33129249, 0.52134527, 0.84835919,\n",
       "       0.8125385 , 0.69534521, 0.79501947, 0.58004462, 0.95049628,\n",
       "       0.51611006, 0.34601704, 0.14367109, 0.33748798, 0.30555136,\n",
       "       0.52161178, 0.46296749, 0.44225417, 0.11711472, 0.30036259,\n",
       "       0.88344265, 0.07412048, 0.57508329, 0.01351508, 0.32967526,\n",
       "       0.66181646, 0.56671737, 0.48207607, 0.89489849, 0.40219355,\n",
       "       0.37789057, 0.57573453, 0.69033722, 0.91353969, 0.05313522,\n",
       "       0.22143014, 0.06872182, 0.03656131, 0.33839137, 0.57581527,\n",
       "       0.27887713, 0.80358545, 0.46189693, 0.38295118, 0.43171977,\n",
       "       0.67519234, 0.98827208, 0.26986126, 0.05683121, 0.88938573,\n",
       "       0.75879958, 0.69009565, 0.62010137, 0.53754924, 0.43594814,\n",
       "       0.84392177, 0.47859445, 0.73222413, 0.87609737, 0.10180711])"
      ]
     },
     "execution_count": 5,
     "metadata": {},
     "output_type": "execute_result"
    }
   ],
   "source": [
    "sample1"
   ]
  },
  {
   "cell_type": "code",
   "execution_count": 6,
   "metadata": {},
   "outputs": [
    {
     "data": {
      "text/plain": [
       "array([-0.70256868, -0.50472487, -0.52384279, -0.04437974, -1.37693286,\n",
       "       -0.58435188,  0.94240135, -0.01887038, -1.65480515, -1.35526545,\n",
       "       -0.01363104,  0.03021096,  1.94074579,  1.00291121, -1.33786652,\n",
       "       -1.24679102, -0.15992354, -0.26392089, -1.08639954, -0.78492341,\n",
       "        0.48940979,  0.55278673,  0.19067765, -2.2552891 , -0.0273711 ,\n",
       "        0.15990542,  1.17398409,  1.12820749, -1.27960221, -0.94929509,\n",
       "       -0.98526539, -0.54147706,  0.10951063,  0.91767749, -1.50038329,\n",
       "       -1.02029552, -1.75420843, -0.28330675, -0.33391736, -0.32040172,\n",
       "        0.63497205,  0.83623194, -1.59487654, -1.08951174, -0.70562837,\n",
       "        1.29792275,  0.63211406,  0.67106151, -0.09083073,  0.24813578,\n",
       "        0.2821278 , -0.66733676,  0.17032169, -0.94870104,  0.65466014,\n",
       "        2.13259467, -0.47490981,  1.11223588, -0.10622551,  0.49917943,\n",
       "       -0.94486782,  0.8908352 ,  0.29053028,  1.05364226, -0.52794284,\n",
       "       -0.13308312,  0.60310724,  1.05901494, -0.48805837, -0.498809  ,\n",
       "       -1.04100807, -1.16581475,  0.24309533,  0.7062765 ,  0.4340321 ,\n",
       "       -0.45721926, -1.48630375,  0.63820884, -2.24725112,  0.37145664,\n",
       "        0.53432533,  0.27651864, -0.67987373,  0.94884347,  1.29121244,\n",
       "        1.12087091, -0.54656448,  0.83366353, -0.82668034,  0.10855602,\n",
       "        0.0573066 , -1.47973704,  1.29583538,  0.74233419, -1.10263325,\n",
       "       -0.14207855,  0.07393243, -0.46427588, -0.37693761, -0.62100103,\n",
       "        1.22106077, -0.25633908, -0.42937709, -1.12505073, -2.4956432 ,\n",
       "        0.61617988,  0.07146703, -0.62996474, -0.7143469 , -0.89924725])"
      ]
     },
     "execution_count": 6,
     "metadata": {},
     "output_type": "execute_result"
    }
   ],
   "source": [
    "sample2"
   ]
  },
  {
   "cell_type": "code",
   "execution_count": 9,
   "metadata": {},
   "outputs": [
    {
     "data": {
      "text/plain": [
       "0"
      ]
     },
     "execution_count": 9,
     "metadata": {},
     "output_type": "execute_result"
    }
   ],
   "source": [
    "round(result.pvalue)"
   ]
  },
  {
   "cell_type": "markdown",
   "metadata": {},
   "source": [
    "Observation: this scipy stats k2_sample package compares the two data set based on the distribution of the two respective data sets. and produces the p value as an output. We know that if p-value is between -0.25 and +0.25 then we accept the null hypothesis and reject null hypothesis otherwise. In the above code , p-value when rounded off gives 0 . This means that we reject the null hypothesis. And hence the two sample are not equal based on the distribution. \n",
    "Note: Null hypothesis = two samples are equal\n",
    "      Alternate hypothesis = two samples are not equal"
   ]
  },
  {
   "cell_type": "markdown",
   "metadata": {},
   "source": [
    "Note: Once we got to know that the data distribution is not same then we require retraining of the model. In short there is data drift and we need to go for re training of the model."
   ]
  }
 ],
 "metadata": {
  "kernelspec": {
   "display_name": "Python 3.8.10 64-bit",
   "language": "python",
   "name": "python3"
  },
  "language_info": {
   "codemirror_mode": {
    "name": "ipython",
    "version": 3
   },
   "file_extension": ".py",
   "mimetype": "text/x-python",
   "name": "python",
   "nbconvert_exporter": "python",
   "pygments_lexer": "ipython3",
   "version": "3.8.10"
  },
  "orig_nbformat": 4,
  "vscode": {
   "interpreter": {
    "hash": "e7370f93d1d0cde622a1f8e1c04877d8463912d04d973331ad4851f04de6915a"
   }
  }
 },
 "nbformat": 4,
 "nbformat_minor": 2
}
